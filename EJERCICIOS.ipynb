{
 "cells": [
  {
   "cell_type": "markdown",
   "metadata": {},
   "source": [
    "# Teoría cuántica básica, Observables y Medidas\n",
    "## Simule el primer sistema cuántico descrito en la sección 4.1.\n",
    "\n",
    "El sistema consiste en una partícula confinada a un conjunto discreto de posiciones en una línea. El simulador debe permitir especificar el número de posiciones y un vector ket de estado asignando las amplitudes.\n",
    "\n",
    "1. El sistema debe calcular la probabilidad de encontrarlo en una posición en particular.\n",
    "### RTA:"
   ]
  },
  {
   "cell_type": "code",
   "execution_count": 5,
   "metadata": {},
   "outputs": [
    {
     "name": "stdout",
     "output_type": "stream",
     "text": [
      "La probabilidad de encontrar la particula en la posicion dada es: 6.4 %\n"
     ]
    }
   ],
   "source": [
    "import numpy as np\n",
    "\n",
    "def norma(a):\n",
    "    norma = np.linalg.norm(a)\n",
    "    return norma\n",
    "\n",
    "def probabilidad_posicion(ket, position):\n",
    "    numerador = norma(ket[position]) ** 2\n",
    "    denominador = norma(ket) ** 2\n",
    "    return numerador /denominador\n",
    "\n",
    "\n",
    "def main():\n",
    "    ket = np.array([[-2+3j], [1-2.5j], [1+1j], [0+3j]])\n",
    "    probabilidad = probabilidad_posicion(ket, 2)\n",
    "    print(\"La probabilidad de encontrar la particula en la posicion dada es:\", probabilidad*100, \"%\")\n",
    "main()"
   ]
  },
  {
   "cell_type": "markdown",
   "metadata": {},
   "source": [
    "2. El sistema si se le da otro vector Ket debe buscar la probabilidad de transitar del primer vector al segundo.\n",
    "### RTA:"
   ]
  },
  {
   "cell_type": "code",
   "execution_count": 13,
   "metadata": {},
   "outputs": [
    {
     "name": "stdout",
     "output_type": "stream",
     "text": [
      "La probabilidad de transitar del vector [[2.-1.j]\n",
      " [0.+3.j]] al vector [[1.+1.j ]\n",
      " [2.-1.2j]] es: 92.55999999999997\n"
     ]
    }
   ],
   "source": [
    "import numpy as np\n",
    "\n",
    "def norma(n):\n",
    "    norma = np.linalg.norm(n)\n",
    "    return norma\n",
    "\n",
    "def bra(ket):\n",
    "    for num in ket:\n",
    "        if isinstance(num, list):\n",
    "            num[1] *= -1\n",
    "        else:\n",
    "            num *= -1\n",
    "    return ket\n",
    "\n",
    "def transicion(ket1, ket2):\n",
    "    bra_f = bra((ket2).T[0])\n",
    "    probabilidad = np.dot(bra_f, (ket1).T[0])\n",
    "    resultado = np.abs(probabilidad) ** 2\n",
    "    return resultado\n",
    "\n",
    "def main():\n",
    "    ket1 = np.array([[2-1j], [0+3j]])\n",
    "    ket2 = np.array([[1+1j], [2-1.2j]])\n",
    "    transicion_f = transicion(ket1, ket2)\n",
    "    print(f\"La probabilidad de transitar del vector {ket1} al vector {ket2} es:\", transicion_f)\n",
    "main()"
   ]
  },
  {
   "cell_type": "markdown",
   "metadata": {},
   "source": [
    "## Complete los retos de programación del capítulo 4.\n",
    "1. Amplitud de transición. El sistema puede recibir dos vectores y calcular la probabilidad de transitar de el uno al otro después de hacer la observación\n",
    "### RTA:"
   ]
  },
  {
   "cell_type": "code",
   "execution_count": null,
   "metadata": {},
   "outputs": [],
   "source": [
    "import numpy\n",
    "\n"
   ]
  },
  {
   "cell_type": "markdown",
   "metadata": {},
   "source": [
    "\n",
    "2. Ahora con una matriz que describa un observable y un vector ket, el sistema revisa que la matriz sea hermitiana, y si lo es, calcula la media y la varianza del observable en el estado dado.\n",
    "\n",
    "3. El sistema calcula los valores propios del observable y la probabilidad de que el sistema transite a alguno de los vectores propios después de la observación.\n",
    "\n",
    "4. Se considera la dinámica del sistema. Ahora con una serie de matrices Un el sistema calcula el estado final a partir de un estado inicial."
   ]
  }
 ],
 "metadata": {
  "kernelspec": {
   "display_name": "Python 3",
   "language": "python",
   "name": "python3"
  },
  "language_info": {
   "codemirror_mode": {
    "name": "ipython",
    "version": 3
   },
   "file_extension": ".py",
   "mimetype": "text/x-python",
   "name": "python",
   "nbconvert_exporter": "python",
   "pygments_lexer": "ipython3",
   "version": "3.11.6"
  }
 },
 "nbformat": 4,
 "nbformat_minor": 2
}
